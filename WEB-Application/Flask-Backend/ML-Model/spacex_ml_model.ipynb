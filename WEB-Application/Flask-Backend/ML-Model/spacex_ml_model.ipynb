{
 "cells": [
  {
   "cell_type": "code",
   "execution_count": 2,
   "id": "f93c184d-48d6-4a86-86ad-b741d337b085",
   "metadata": {},
   "outputs": [],
   "source": [
    "import pandas as pd\n",
    "import numpy as np\n",
    "import matplotlib.pyplot as plt\n",
    "import seaborn as sns\n",
    "from sklearn import preprocessing\n",
    "from sklearn.model_selection import train_test_split\n",
    "from sklearn.model_selection import GridSearchCV\n",
    "from sklearn.linear_model import LogisticRegression\n",
    "from sklearn.svm import SVC\n",
    "from sklearn.tree import DecisionTreeClassifier\n",
    "from sklearn.neighbors import KNeighborsClassifier\n",
    "import pickle  # For saving the model"
   ]
  },
  {
   "cell_type": "code",
   "execution_count": 4,
   "id": "97692952-652f-4922-8e27-7997016f63ce",
   "metadata": {},
   "outputs": [
    {
     "name": "stdout",
     "output_type": "stream",
     "text": [
      "tuned hyperparameters (best parameters):  {'criterion': 'gini', 'max_depth': 6, 'max_features': 'log2', 'min_samples_leaf': 1, 'min_samples_split': 10, 'splitter': 'random'}\n",
      "accuracy:  0.875\n"
     ]
    }
   ],
   "source": [
    "\n",
    "def plot_confusion_matrix(y,y_predict):\n",
    "    \"this function plots the confusion matrix\"\n",
    "    from sklearn.metrics import confusion_matrix\n",
    "    cm = confusion_matrix(y, y_predict)\n",
    "    ax= plt.subplot()\n",
    "    sns.heatmap(cm, annot=True, ax = ax); #annot=True to annotate cells\n",
    "    ax.set_xlabel('Predicted labels')\n",
    "    ax.set_ylabel('True labels')\n",
    "    ax.set_title('Confusion Matrix'); \n",
    "    ax.xaxis.set_ticklabels(['did not land', 'land']); ax.yaxis.set_ticklabels(['did not land', 'landed'])\n",
    "\n",
    "# Load and prepare data\n",
    "data = pd.read_csv(\"https://cf-courses-data.s3.us.cloud-object-storage.appdomain.cloud/IBM-DS0321EN-SkillsNetwork/datasets/dataset_part_2.csv\")\n",
    "X = pd.read_csv('https://cf-courses-data.s3.us.cloud-object-storage.appdomain.cloud/IBM-DS0321EN-SkillsNetwork/datasets/dataset_part_3.csv')\n",
    "Y = pd.Series(data['Class'].to_numpy())\n",
    "\n",
    "# Preprocess data\n",
    "transform = preprocessing.StandardScaler()\n",
    "X = transform.fit(X).transform(X)\n",
    "X_train, X_test, Y_train, Y_test = train_test_split(X, Y, test_size=0.2, random_state=2)\n",
    "\n",
    "# Train Decision Tree with GridSearchCV\n",
    "parameters = {'criterion': ['gini', 'entropy'],\n",
    "              'splitter': ['best', 'random'],\n",
    "              'max_depth': [2*n for n in range(1,10)],\n",
    "              'max_features': ['sqrt', 'log2', None],\n",
    "              'min_samples_leaf': [1, 2, 4],\n",
    "              'min_samples_split': [2, 5, 10]}\n",
    "\n",
    "tree = DecisionTreeClassifier()\n",
    "tree_cv = GridSearchCV(tree, parameters, cv=10)\n",
    "tree_cv.fit(X_train, Y_train)\n",
    "\n",
    "# Print best parameters and accuracy\n",
    "print(\"tuned hyperparameters (best parameters): \", tree_cv.best_params_)\n",
    "print(\"accuracy: \", tree_cv.best_score_)"
   ]
  },
  {
   "cell_type": "code",
   "execution_count": 5,
   "id": "82d1556f-e767-4d07-af48-4b9df8dee89c",
   "metadata": {},
   "outputs": [
    {
     "name": "stdout",
     "output_type": "stream",
     "text": [
      "Loaded model accuracy: 0.5\n"
     ]
    }
   ],
   "source": [
    "# Save the model to a pickle file\n",
    "with open('decision_tree_model.pkl', 'wb') as file:\n",
    "    pickle.dump(tree_cv, file)\n",
    "\n",
    "with open('decision_tree_model.pkl', 'rb') as file:\n",
    "    loaded_model = pickle.load(file)\n",
    "\n",
    "# Verify the loaded model works\n",
    "tree_accuracy = loaded_model.score(X_test, Y_test)\n",
    "print(f\"Loaded model accuracy: {tree_accuracy}\")"
   ]
  },
  {
   "cell_type": "code",
   "execution_count": 8,
   "id": "341716a2-a788-462c-9397-5c863a47b32d",
   "metadata": {},
   "outputs": [
    {
     "name": "stdout",
     "output_type": "stream",
     "text": [
      "Loaded model accuracy: 0.5\n"
     ]
    }
   ],
   "source": [
    "from joblib import dump, load\n",
    "dump(tree_cv, 'decision_tree_model.joblib')\n",
    "# Load the model\n",
    "loaded_model = load('decision_tree_model.joblib')\n",
    "# Verify the loaded model works\n",
    "tree_accuracy = loaded_model.score(X_test, Y_test)\n",
    "print(f\"Loaded model accuracy: {tree_accuracy}\")"
   ]
  },
  {
   "cell_type": "code",
   "execution_count": 10,
   "id": "d1f3357d-954c-44d5-9d99-76946e8aa562",
   "metadata": {},
   "outputs": [],
   "source": [
    "def user_input_predict():\n",
    "    print(\"\\nEnter values for the following features:\")    \n",
    "    # Ensure to use same order as training data\n",
    "    feature_names = X.columns.tolist()    \n",
    "    input_data = []\n",
    "    for feature in feature_names:\n",
    "        while True:\n",
    "            try:\n",
    "                value = float(input(f\"{feature}: \"))\n",
    "                input_data.append(value)\n",
    "                break\n",
    "            except ValueError:\n",
    "                print(f\"Invalid input for {feature}. Please enter a valid number.\")    \n",
    "    # Reshape and scale\n",
    "    input_array = np.array(input_data).reshape(1, -1)\n",
    "    input_scaled = transform.transform(input_array)\n",
    "    # Predict\n",
    "    prediction = loaded_model.predict(input_scaled)\n",
    "\n",
    "    # Output\n",
    "    result = \"Rocket *Launch* succeded.\" if prediction[0] == 1 else \"Rocket, *Launch* Failed.\"\n",
    "    print(f\"\\nPrediction: {result}\")\n"
   ]
  },
  {
   "cell_type": "code",
   "execution_count": 14,
   "id": "e84c5834-2ea9-4840-a603-ec87c9e5db48",
   "metadata": {},
   "outputs": [],
   "source": [
    "data = pd.read_csv(\"https://cf-courses-data.s3.us.cloud-object-storage.appdomain.cloud/IBM-DS0321EN-SkillsNetwork/datasets/dataset_part_2.csv\")\n",
    "X = pd.read_csv('https://cf-courses-data.s3.us.cloud-object-storage.appdomain.cloud/IBM-DS0321EN-SkillsNetwork/datasets/dataset_part_3.csv')\n",
    "def user_input_predict():\n",
    "    print(\"\\n Welcome to the Falcon 9 Landing Prediction System\")\n",
    "    print(\"Please answer the following questions to help us predict whether the rocket will land successfully.\\n\")\n",
    "\n",
    "    # Use the actual feature names from your dataset\n",
    "    feature_names = X.columns.tolist()\n",
    "    input_data = []\n",
    "\n",
    "    for feature in feature_names:\n",
    "        while True:\n",
    "            try:\n",
    "                value = float(input(f\"→ Please enter the value for **{feature}**: \"))\n",
    "                input_data.append(value)\n",
    "                break\n",
    "            except ValueError:\n",
    "                print(f\"Invalid input. The value for **{feature}** must be a number. Please try again.\")\n",
    "\n",
    "    # Reshape and scale\n",
    "    input_array = np.array(input_data).reshape(1, -1)\n",
    "    input_scaled = transform.transform(input_array)\n",
    "    # Predict using the model\n",
    "    prediction = loaded_model.predict(input_scaled)\n",
    "    print(\"\\nAnalyzing data...\")\n",
    "    result = \"Rocket *Launch* succeded.\" if prediction[0] == 1 else \"Rocket, *Launch* Failed.\"\n",
    "    print(result)"
   ]
  },
  {
   "cell_type": "code",
   "execution_count": null,
   "id": "6ce9aa60-c500-45a8-ae85-c824e5fceb27",
   "metadata": {},
   "outputs": [
    {
     "name": "stdout",
     "output_type": "stream",
     "text": [
      "\n",
      " Welcome to the Falcon 9 Landing Prediction System\n",
      "Please answer the following questions to help us predict whether the rocket will land successfully.\n",
      "\n"
     ]
    },
    {
     "name": "stdin",
     "output_type": "stream",
     "text": [
      "→ Please enter the value for **FlightNumber**:  16\n",
      "→ Please enter the value for **PayloadMass**:  6104.959411764706\n",
      "→ Please enter the value for **Flights**:  1\n",
      "→ Please enter the value for **Block**:  \n"
     ]
    },
    {
     "name": "stdout",
     "output_type": "stream",
     "text": [
      "Invalid input. The value for **Block** must be a number. Please try again.\n"
     ]
    },
    {
     "name": "stdin",
     "output_type": "stream",
     "text": [
      "→ Please enter the value for **Block**:  1\n",
      "→ Please enter the value for **ReusedCount**:  1\n",
      "→ Please enter the value for **Orbit_ES-L1**:  LEO\n"
     ]
    },
    {
     "name": "stdout",
     "output_type": "stream",
     "text": [
      "Invalid input. The value for **Orbit_ES-L1** must be a number. Please try again.\n"
     ]
    },
    {
     "name": "stdin",
     "output_type": "stream",
     "text": [
      "→ Please enter the value for **Orbit_ES-L1**:  12\n",
      "→ Please enter the value for **Orbit_GEO**:  12\n",
      "→ Please enter the value for **Orbit_GTO**:  12\n",
      "→ Please enter the value for **Orbit_HEO**:  12\n",
      "→ Please enter the value for **Orbit_ISS**:  11\n",
      "→ Please enter the value for **Orbit_LEO**:  12\n",
      "→ Please enter the value for **Orbit_MEO**:  12\n",
      "→ Please enter the value for **Orbit_PO**:  212\n",
      "→ Please enter the value for **Orbit_SO**:  21\n",
      "→ Please enter the value for **Orbit_SSO**:  21\n",
      "→ Please enter the value for **Orbit_VLEO**:  21\n",
      "→ Please enter the value for **LaunchSite_CCAFS SLC 40**:  1\n",
      "→ Please enter the value for **LaunchSite_KSC LC 39A**:  2\n",
      "→ Please enter the value for **LaunchSite_VAFB SLC 4E**:  1\n",
      "→ Please enter the value for **LandingPad_5e9e3032383ecb267a34e7c7**:  1\n",
      "→ Please enter the value for **LandingPad_5e9e3032383ecb554034e7c9**:  2\n",
      "→ Please enter the value for **LandingPad_5e9e3032383ecb6bb234e7ca**:  1\n",
      "→ Please enter the value for **LandingPad_5e9e3032383ecb761634e7cb**:  1\n",
      "→ Please enter the value for **LandingPad_5e9e3033383ecbb9e534e7cc**:  1\n",
      "→ Please enter the value for **Serial_B0003**:  1\n",
      "→ Please enter the value for **Serial_B0005**:  1\n",
      "→ Please enter the value for **Serial_B0007**:  1\n",
      "→ Please enter the value for **Serial_B1003**:  1\n"
     ]
    }
   ],
   "source": [
    "user_input_predict()"
   ]
  },
  {
   "cell_type": "code",
   "execution_count": null,
   "id": "82992993-1c56-490d-a9db-794c6702e81b",
   "metadata": {},
   "outputs": [],
   "source": []
  }
 ],
 "metadata": {
  "kernelspec": {
   "display_name": "Python 3 (ipykernel)",
   "language": "python",
   "name": "python3"
  },
  "language_info": {
   "codemirror_mode": {
    "name": "ipython",
    "version": 3
   },
   "file_extension": ".py",
   "mimetype": "text/x-python",
   "name": "python",
   "nbconvert_exporter": "python",
   "pygments_lexer": "ipython3",
   "version": "3.13.2"
  }
 },
 "nbformat": 4,
 "nbformat_minor": 5
}
